{
  "cells": [
    {
      "cell_type": "markdown",
      "metadata": {
        "id": "R8KdELj55wB2"
      },
      "source": [
        "# 0. About This Colab Notebook\n",
        "\n",
        "1. This Colab is designed for the course \"**Computer Programming in Python**\" instructed by Tse-Yu Lin.\n",
        "\n",
        "2. Note that each time you enter this Colab from the link provided by the instructor, TAs or other people.\n",
        "Please create a copy to your own Google Drive by clicking **File > Save a copy in Drive**. After clicking, a new tab page will be opened."
      ]
    },
    {
      "cell_type": "code",
      "execution_count": 1,
      "metadata": {
        "id": "MiqSot6ngif7"
      },
      "outputs": [],
      "source": [
        "import matplotlib.pyplot as plt\n",
        "import numpy as np\n",
        "import pandas as pd\n",
        "import seaborn as sns\n",
        "\n",
        "sns.set_palette(palette=\"pastel\")\n",
        "sns.set()\n"
      ]
    },
    {
      "cell_type": "markdown",
      "metadata": {
        "id": "7vjFJeEKC_c2"
      },
      "source": [
        "# a) Preparation: Download Dataset"
      ]
    },
    {
      "cell_type": "markdown",
      "metadata": {
        "id": "MTSuSLdyEbz8"
      },
      "source": [
        "We import the following package ``gdown`` to download files from Google Drive."
      ]
    },
    {
      "cell_type": "code",
      "execution_count": 2,
      "metadata": {
        "id": "tI1041xFDjoS"
      },
      "outputs": [],
      "source": [
        "filename = \"disney_plus_titles.csv\"\n",
        "if \"get_ipython\" in dir() and \"google.colab\" in str(get_ipython()):\n",
        "    import gdown\n",
        "\n",
        "    url = \"https://drive.google.com/u/1/uc?id=118sEZB_-OfyXH130f-EED4KI26AXH8FO&export=download\"\n",
        "    # mirror_url = \"https://drive.google.com/u/1/uc?id=1xlzqH8z2ChAO4xPpm3GDfslyni53Bn5j&export=download\"\n",
        "    gdown.download(url, filename)\n"
      ]
    },
    {
      "cell_type": "code",
      "execution_count": 3,
      "metadata": {
        "id": "R5ekKWKGDsqP"
      },
      "outputs": [],
      "source": [
        "raw_df = pd.read_csv(filename)\n"
      ]
    },
    {
      "cell_type": "code",
      "execution_count": 4,
      "metadata": {
        "colab": {
          "base_uri": "https://localhost:8080/"
        },
        "id": "Qb-0m7KdDxPt",
        "outputId": "d8ebf977-f0e1-4757-8679-1ab60c7846a8"
      },
      "outputs": [
        {
          "name": "stdout",
          "output_type": "stream",
          "text": [
            "Size of dataset: 1450\n",
            "Number of Features: 12\n"
          ]
        }
      ],
      "source": [
        "m, n = raw_df.shape\n",
        "print(f\"Size of dataset: {m}\")\n",
        "print(f\"Number of Features: {n}\")\n"
      ]
    },
    {
      "cell_type": "code",
      "execution_count": 5,
      "metadata": {
        "colab": {
          "base_uri": "https://localhost:8080/",
          "height": 528
        },
        "id": "wzVFrnx2fSCR",
        "outputId": "425df59b-156d-498d-cd97-82e90d009424"
      },
      "outputs": [
        {
          "data": {
            "text/html": [
              "<div>\n",
              "<style scoped>\n",
              "    .dataframe tbody tr th:only-of-type {\n",
              "        vertical-align: middle;\n",
              "    }\n",
              "\n",
              "    .dataframe tbody tr th {\n",
              "        vertical-align: top;\n",
              "    }\n",
              "\n",
              "    .dataframe thead th {\n",
              "        text-align: right;\n",
              "    }\n",
              "</style>\n",
              "<table border=\"1\" class=\"dataframe\">\n",
              "  <thead>\n",
              "    <tr style=\"text-align: right;\">\n",
              "      <th></th>\n",
              "      <th>show_id</th>\n",
              "      <th>type</th>\n",
              "      <th>title</th>\n",
              "      <th>director</th>\n",
              "      <th>cast</th>\n",
              "      <th>country</th>\n",
              "      <th>date_added</th>\n",
              "      <th>release_year</th>\n",
              "      <th>rating</th>\n",
              "      <th>duration</th>\n",
              "      <th>listed_in</th>\n",
              "      <th>description</th>\n",
              "    </tr>\n",
              "  </thead>\n",
              "  <tbody>\n",
              "    <tr>\n",
              "      <th>538</th>\n",
              "      <td>s539</td>\n",
              "      <td>Movie</td>\n",
              "      <td>Homeward Bound II: Lost in San Francisco</td>\n",
              "      <td>David Ellis</td>\n",
              "      <td>Robert Hays, Kim Greist, Veronica Lauren, Kevi...</td>\n",
              "      <td>United States</td>\n",
              "      <td>May 1, 2020</td>\n",
              "      <td>1996</td>\n",
              "      <td>G</td>\n",
              "      <td>90 min</td>\n",
              "      <td>Action-Adventure, Animals &amp; Nature, Family</td>\n",
              "      <td>Three lost pets must navigate through San Fran...</td>\n",
              "    </tr>\n",
              "    <tr>\n",
              "      <th>754</th>\n",
              "      <td>s755</td>\n",
              "      <td>Movie</td>\n",
              "      <td>Boat Builders</td>\n",
              "      <td>Ben Sharpsteen</td>\n",
              "      <td>NaN</td>\n",
              "      <td>United States</td>\n",
              "      <td>November 12, 2019</td>\n",
              "      <td>1938</td>\n",
              "      <td>TV-G</td>\n",
              "      <td>8 min</td>\n",
              "      <td>Animation, Comedy, Family</td>\n",
              "      <td>Mickey and friends build a boat but it falls a...</td>\n",
              "    </tr>\n",
              "    <tr>\n",
              "      <th>49</th>\n",
              "      <td>s50</td>\n",
              "      <td>Movie</td>\n",
              "      <td>The Search for Santa Paws</td>\n",
              "      <td>Robert Vince</td>\n",
              "      <td>Resse Alexander, Diedrich Bader, Sahar Biniaz,...</td>\n",
              "      <td>Canada</td>\n",
              "      <td>November 5, 2021</td>\n",
              "      <td>2010</td>\n",
              "      <td>G</td>\n",
              "      <td>101 min</td>\n",
              "      <td>Drama, Family, Fantasy</td>\n",
              "      <td>Discover how the legendary friendship of Santa...</td>\n",
              "    </tr>\n",
              "    <tr>\n",
              "      <th>1380</th>\n",
              "      <td>s1381</td>\n",
              "      <td>Movie</td>\n",
              "      <td>Toy Story Toons: Hawaiian Vacation</td>\n",
              "      <td>Gary Rydstrom</td>\n",
              "      <td>Tom Hanks, Tim Allen, Joan Cusack, Kristen Sch...</td>\n",
              "      <td>United States</td>\n",
              "      <td>November 12, 2019</td>\n",
              "      <td>2011</td>\n",
              "      <td>G</td>\n",
              "      <td>6 min</td>\n",
              "      <td>Animation, Comedy, Family</td>\n",
              "      <td>Ken and Barbie get the vacation of their dreams.</td>\n",
              "    </tr>\n",
              "    <tr>\n",
              "      <th>141</th>\n",
              "      <td>s142</td>\n",
              "      <td>TV Show</td>\n",
              "      <td>Cesar Millan: Better Human Better Dog</td>\n",
              "      <td>NaN</td>\n",
              "      <td>Dustin Rubin</td>\n",
              "      <td>NaN</td>\n",
              "      <td>August 4, 2021</td>\n",
              "      <td>2021</td>\n",
              "      <td>TV-14</td>\n",
              "      <td>1 Season</td>\n",
              "      <td>Animals &amp; Nature, Docuseries, Family</td>\n",
              "      <td>Renowned Dog Behaviorist Cesar Millan transfor...</td>\n",
              "    </tr>\n",
              "  </tbody>\n",
              "</table>\n",
              "</div>"
            ],
            "text/plain": [
              "     show_id     type                                     title  \\\n",
              "538     s539    Movie  Homeward Bound II: Lost in San Francisco   \n",
              "754     s755    Movie                             Boat Builders   \n",
              "49       s50    Movie                 The Search for Santa Paws   \n",
              "1380   s1381    Movie        Toy Story Toons: Hawaiian Vacation   \n",
              "141     s142  TV Show     Cesar Millan: Better Human Better Dog   \n",
              "\n",
              "            director                                               cast  \\\n",
              "538      David Ellis  Robert Hays, Kim Greist, Veronica Lauren, Kevi...   \n",
              "754   Ben Sharpsteen                                                NaN   \n",
              "49      Robert Vince  Resse Alexander, Diedrich Bader, Sahar Biniaz,...   \n",
              "1380   Gary Rydstrom  Tom Hanks, Tim Allen, Joan Cusack, Kristen Sch...   \n",
              "141              NaN                                       Dustin Rubin   \n",
              "\n",
              "            country         date_added  release_year rating  duration  \\\n",
              "538   United States        May 1, 2020          1996      G    90 min   \n",
              "754   United States  November 12, 2019          1938   TV-G     8 min   \n",
              "49           Canada   November 5, 2021          2010      G   101 min   \n",
              "1380  United States  November 12, 2019          2011      G     6 min   \n",
              "141             NaN     August 4, 2021          2021  TV-14  1 Season   \n",
              "\n",
              "                                       listed_in  \\\n",
              "538   Action-Adventure, Animals & Nature, Family   \n",
              "754                    Animation, Comedy, Family   \n",
              "49                        Drama, Family, Fantasy   \n",
              "1380                   Animation, Comedy, Family   \n",
              "141         Animals & Nature, Docuseries, Family   \n",
              "\n",
              "                                            description  \n",
              "538   Three lost pets must navigate through San Fran...  \n",
              "754   Mickey and friends build a boat but it falls a...  \n",
              "49    Discover how the legendary friendship of Santa...  \n",
              "1380   Ken and Barbie get the vacation of their dreams.  \n",
              "141   Renowned Dog Behaviorist Cesar Millan transfor...  "
            ]
          },
          "execution_count": 5,
          "metadata": {},
          "output_type": "execute_result"
        }
      ],
      "source": [
        "raw_df.sample(5, random_state=42)\n"
      ]
    },
    {
      "cell_type": "markdown",
      "metadata": {
        "id": "uvOzEGnpDzuH"
      },
      "source": [
        "Please refer the following link for more detail about headers:\n",
        "* Disney+ Movies and TV Shows: https://www.kaggle.com/datasets/shivamb/disney-movies-and-tv-shows"
      ]
    },
    {
      "cell_type": "markdown",
      "metadata": {
        "id": "i5_HAG3BfAQn"
      },
      "source": [
        "# b) Data Analysis on Your Own"
      ]
    },
    {
      "cell_type": "code",
      "execution_count": 6,
      "metadata": {},
      "outputs": [
        {
          "name": "stdout",
          "output_type": "stream",
          "text": [
            "<class 'pandas.core.frame.DataFrame'>\n",
            "RangeIndex: 1450 entries, 0 to 1449\n",
            "Data columns (total 12 columns):\n",
            " #   Column        Non-Null Count  Dtype \n",
            "---  ------        --------------  ----- \n",
            " 0   show_id       1450 non-null   object\n",
            " 1   type          1450 non-null   object\n",
            " 2   title         1450 non-null   object\n",
            " 3   director      977 non-null    object\n",
            " 4   cast          1260 non-null   object\n",
            " 5   country       1231 non-null   object\n",
            " 6   date_added    1447 non-null   object\n",
            " 7   release_year  1450 non-null   int64 \n",
            " 8   rating        1447 non-null   object\n",
            " 9   duration      1450 non-null   object\n",
            " 10  listed_in     1450 non-null   object\n",
            " 11  description   1450 non-null   object\n",
            "dtypes: int64(1), object(11)\n",
            "memory usage: 136.1+ KB\n"
          ]
        }
      ],
      "source": [
        "raw_df.info()\n"
      ]
    },
    {
      "cell_type": "markdown",
      "metadata": {},
      "source": [
        "## Clean the Data"
      ]
    },
    {
      "cell_type": "code",
      "execution_count": 7,
      "metadata": {},
      "outputs": [
        {
          "name": "stdout",
          "output_type": "stream",
          "text": [
            "<class 'pandas.core.frame.DataFrame'>\n",
            "MultiIndex: 1444 entries, ('Movie', 'G', 1937, Timestamp('2019-11-12 00:00:00'), 's1200') to ('TV Show', 'TV-Y7-FV', 2021, Timestamp('2021-04-02 00:00:00'), 's266')\n",
            "Data columns (total 5 columns):\n",
            " #   Column     Non-Null Count  Dtype \n",
            "---  ------     --------------  ----- \n",
            " 0   title      1444 non-null   string\n",
            " 1   cast       1255 non-null   object\n",
            " 2   country    1228 non-null   object\n",
            " 3   duration   1444 non-null   Int32 \n",
            " 4   listed_in  1444 non-null   object\n",
            "dtypes: Int32(1), object(3), string(1)\n",
            "memory usage: 114.6+ KB\n"
          ]
        },
        {
          "data": {
            "text/html": [
              "<div>\n",
              "<style scoped>\n",
              "    .dataframe tbody tr th:only-of-type {\n",
              "        vertical-align: middle;\n",
              "    }\n",
              "\n",
              "    .dataframe tbody tr th {\n",
              "        vertical-align: top;\n",
              "    }\n",
              "\n",
              "    .dataframe thead th {\n",
              "        text-align: right;\n",
              "    }\n",
              "</style>\n",
              "<table border=\"1\" class=\"dataframe\">\n",
              "  <thead>\n",
              "    <tr style=\"text-align: right;\">\n",
              "      <th></th>\n",
              "      <th></th>\n",
              "      <th></th>\n",
              "      <th></th>\n",
              "      <th></th>\n",
              "      <th>title</th>\n",
              "      <th>cast</th>\n",
              "      <th>country</th>\n",
              "      <th>duration</th>\n",
              "      <th>listed_in</th>\n",
              "    </tr>\n",
              "    <tr>\n",
              "      <th>type</th>\n",
              "      <th>rating</th>\n",
              "      <th>release_year</th>\n",
              "      <th>date_added</th>\n",
              "      <th>show_id</th>\n",
              "      <th></th>\n",
              "      <th></th>\n",
              "      <th></th>\n",
              "      <th></th>\n",
              "      <th></th>\n",
              "    </tr>\n",
              "  </thead>\n",
              "  <tbody>\n",
              "    <tr>\n",
              "      <th rowspan=\"5\" valign=\"top\">Movie</th>\n",
              "      <th rowspan=\"5\" valign=\"top\">G</th>\n",
              "      <th>1937</th>\n",
              "      <th>2019-11-12</th>\n",
              "      <th>s1200</th>\n",
              "      <td>Snow White and The Seven Dwarfs</td>\n",
              "      <td>[Adriana Caselotti, Harry Stockwell, Lucille L...</td>\n",
              "      <td>[United States]</td>\n",
              "      <td>84</td>\n",
              "      <td>[Animation, Family, Fantasy]</td>\n",
              "    </tr>\n",
              "    <tr>\n",
              "      <th rowspan=\"2\" valign=\"top\">1940</th>\n",
              "      <th rowspan=\"2\" valign=\"top\">2019-11-12</th>\n",
              "      <th>s1130</th>\n",
              "      <td>Pinocchio</td>\n",
              "      <td>[Dickie Jones, Christian Rub, Cliff Edwards, E...</td>\n",
              "      <td>[United States]</td>\n",
              "      <td>90</td>\n",
              "      <td>[Animation, Family, Fantasy]</td>\n",
              "    </tr>\n",
              "    <tr>\n",
              "      <th>s884</th>\n",
              "      <td>Fantasia</td>\n",
              "      <td>[Deems Taylor, Walt Disney, Leopold Stokowski]</td>\n",
              "      <td>[United States]</td>\n",
              "      <td>126</td>\n",
              "      <td>[Animation, Family, Fantasy]</td>\n",
              "    </tr>\n",
              "    <tr>\n",
              "      <th>1941</th>\n",
              "      <th>2019-11-12</th>\n",
              "      <th>s1326</th>\n",
              "      <td>The Reluctant Dragon</td>\n",
              "      <td>[Robert Benchley, Gerald Mohr, Alan Ladd, Flor...</td>\n",
              "      <td>[United States]</td>\n",
              "      <td>74</td>\n",
              "      <td>[Animation, Comedy, Family]</td>\n",
              "    </tr>\n",
              "    <tr>\n",
              "      <th>1942</th>\n",
              "      <th>2019-11-12</th>\n",
              "      <th>s739</th>\n",
              "      <td>Bambi</td>\n",
              "      <td>NaN</td>\n",
              "      <td>[United States]</td>\n",
              "      <td>72</td>\n",
              "      <td>[Animation, Drama, Family]</td>\n",
              "    </tr>\n",
              "    <tr>\n",
              "      <th>...</th>\n",
              "      <th>...</th>\n",
              "      <th>...</th>\n",
              "      <th>...</th>\n",
              "      <th>...</th>\n",
              "      <td>...</td>\n",
              "      <td>...</td>\n",
              "      <td>...</td>\n",
              "      <td>...</td>\n",
              "      <td>...</td>\n",
              "    </tr>\n",
              "    <tr>\n",
              "      <th rowspan=\"5\" valign=\"top\">TV Show</th>\n",
              "      <th rowspan=\"5\" valign=\"top\">TV-Y7-FV</th>\n",
              "      <th>1985</th>\n",
              "      <th>2021-06-18</th>\n",
              "      <th>s196</th>\n",
              "      <td>Star Wars Vintage: Droids</td>\n",
              "      <td>[Anthony Daniels, R2-D2, Lesleh Donaldson, And...</td>\n",
              "      <td>NaN</td>\n",
              "      <td>2</td>\n",
              "      <td>[Action-Adventure, Animation, Fantasy]</td>\n",
              "    </tr>\n",
              "    <tr>\n",
              "      <th>2015</th>\n",
              "      <th>2019-11-12</th>\n",
              "      <th>s1005</th>\n",
              "      <td>LEGO Star Wars: Resistance Rises (Shorts)</td>\n",
              "      <td>NaN</td>\n",
              "      <td>[United States, Denmark]</td>\n",
              "      <td>1</td>\n",
              "      <td>[Action-Adventure, Animation, Comedy]</td>\n",
              "    </tr>\n",
              "    <tr>\n",
              "      <th>2019</th>\n",
              "      <th>2019-11-12</th>\n",
              "      <th>s1214</th>\n",
              "      <td>Star Wars: Blips</td>\n",
              "      <td>NaN</td>\n",
              "      <td>[United States]</td>\n",
              "      <td>1</td>\n",
              "      <td>[Series]</td>\n",
              "    </tr>\n",
              "    <tr>\n",
              "      <th>2020</th>\n",
              "      <th>2021-02-12</th>\n",
              "      <th>s301</th>\n",
              "      <td>Marvel Battleworld: Mystery of the Thanostones</td>\n",
              "      <td>[Giles Panton, Rebecca Shoichet, Jesse Inocall...</td>\n",
              "      <td>[United States]</td>\n",
              "      <td>1</td>\n",
              "      <td>[Action-Adventure, Animation, Fantasy]</td>\n",
              "    </tr>\n",
              "    <tr>\n",
              "      <th>2021</th>\n",
              "      <th>2021-04-02</th>\n",
              "      <th>s266</th>\n",
              "      <td>Star Wars Vintage: Clone Wars 2D Micro-Series</td>\n",
              "      <td>[Mat Lucas, James Arnold Taylor, Tom Kane, Gre...</td>\n",
              "      <td>NaN</td>\n",
              "      <td>1</td>\n",
              "      <td>[Series]</td>\n",
              "    </tr>\n",
              "  </tbody>\n",
              "</table>\n",
              "<p>1444 rows × 5 columns</p>\n",
              "</div>"
            ],
            "text/plain": [
              "                                                                                           title  \\\n",
              "type    rating   release_year date_added show_id                                                   \n",
              "Movie   G        1937         2019-11-12 s1200                   Snow White and The Seven Dwarfs   \n",
              "                 1940         2019-11-12 s1130                                         Pinocchio   \n",
              "                                         s884                                           Fantasia   \n",
              "                 1941         2019-11-12 s1326                              The Reluctant Dragon   \n",
              "                 1942         2019-11-12 s739                                              Bambi   \n",
              "...                                                                                          ...   \n",
              "TV Show TV-Y7-FV 1985         2021-06-18 s196                          Star Wars Vintage: Droids   \n",
              "                 2015         2019-11-12 s1005         LEGO Star Wars: Resistance Rises (Shorts)   \n",
              "                 2019         2019-11-12 s1214                                  Star Wars: Blips   \n",
              "                 2020         2021-02-12 s301     Marvel Battleworld: Mystery of the Thanostones   \n",
              "                 2021         2021-04-02 s266      Star Wars Vintage: Clone Wars 2D Micro-Series   \n",
              "\n",
              "                                                                                               cast  \\\n",
              "type    rating   release_year date_added show_id                                                      \n",
              "Movie   G        1937         2019-11-12 s1200    [Adriana Caselotti, Harry Stockwell, Lucille L...   \n",
              "                 1940         2019-11-12 s1130    [Dickie Jones, Christian Rub, Cliff Edwards, E...   \n",
              "                                         s884        [Deems Taylor, Walt Disney, Leopold Stokowski]   \n",
              "                 1941         2019-11-12 s1326    [Robert Benchley, Gerald Mohr, Alan Ladd, Flor...   \n",
              "                 1942         2019-11-12 s739                                                   NaN   \n",
              "...                                                                                             ...   \n",
              "TV Show TV-Y7-FV 1985         2021-06-18 s196     [Anthony Daniels, R2-D2, Lesleh Donaldson, And...   \n",
              "                 2015         2019-11-12 s1005                                                  NaN   \n",
              "                 2019         2019-11-12 s1214                                                  NaN   \n",
              "                 2020         2021-02-12 s301     [Giles Panton, Rebecca Shoichet, Jesse Inocall...   \n",
              "                 2021         2021-04-02 s266     [Mat Lucas, James Arnold Taylor, Tom Kane, Gre...   \n",
              "\n",
              "                                                                   country  \\\n",
              "type    rating   release_year date_added show_id                             \n",
              "Movie   G        1937         2019-11-12 s1200             [United States]   \n",
              "                 1940         2019-11-12 s1130             [United States]   \n",
              "                                         s884              [United States]   \n",
              "                 1941         2019-11-12 s1326             [United States]   \n",
              "                 1942         2019-11-12 s739              [United States]   \n",
              "...                                                                    ...   \n",
              "TV Show TV-Y7-FV 1985         2021-06-18 s196                          NaN   \n",
              "                 2015         2019-11-12 s1005    [United States, Denmark]   \n",
              "                 2019         2019-11-12 s1214             [United States]   \n",
              "                 2020         2021-02-12 s301              [United States]   \n",
              "                 2021         2021-04-02 s266                          NaN   \n",
              "\n",
              "                                                  duration  \\\n",
              "type    rating   release_year date_added show_id             \n",
              "Movie   G        1937         2019-11-12 s1200          84   \n",
              "                 1940         2019-11-12 s1130          90   \n",
              "                                         s884          126   \n",
              "                 1941         2019-11-12 s1326          74   \n",
              "                 1942         2019-11-12 s739           72   \n",
              "...                                                    ...   \n",
              "TV Show TV-Y7-FV 1985         2021-06-18 s196            2   \n",
              "                 2015         2019-11-12 s1005           1   \n",
              "                 2019         2019-11-12 s1214           1   \n",
              "                 2020         2021-02-12 s301            1   \n",
              "                 2021         2021-04-02 s266            1   \n",
              "\n",
              "                                                                               listed_in  \n",
              "type    rating   release_year date_added show_id                                          \n",
              "Movie   G        1937         2019-11-12 s1200              [Animation, Family, Fantasy]  \n",
              "                 1940         2019-11-12 s1130              [Animation, Family, Fantasy]  \n",
              "                                         s884               [Animation, Family, Fantasy]  \n",
              "                 1941         2019-11-12 s1326               [Animation, Comedy, Family]  \n",
              "                 1942         2019-11-12 s739                 [Animation, Drama, Family]  \n",
              "...                                                                                  ...  \n",
              "TV Show TV-Y7-FV 1985         2021-06-18 s196     [Action-Adventure, Animation, Fantasy]  \n",
              "                 2015         2019-11-12 s1005     [Action-Adventure, Animation, Comedy]  \n",
              "                 2019         2019-11-12 s1214                                  [Series]  \n",
              "                 2020         2021-02-12 s301     [Action-Adventure, Animation, Fantasy]  \n",
              "                 2021         2021-04-02 s266                                   [Series]  \n",
              "\n",
              "[1444 rows x 5 columns]"
            ]
          },
          "execution_count": 7,
          "metadata": {},
          "output_type": "execute_result"
        }
      ],
      "source": [
        "cleaned_df = (\n",
        "    raw_df.drop(labels=[\"director\", \"description\"], axis=\"columns\")\n",
        "    .dropna(subset=[\"rating\", \"date_added\"], how=\"any\", axis=\"index\")\n",
        "    .assign(\n",
        "        date_added=pd.to_datetime(raw_df[\"date_added\"], format=\"%B %d, %Y\"),\n",
        "        duration=raw_df[\"duration\"].str.extract(\"([0-9]+)\").astype(int),\n",
        "        cast=raw_df[\"cast\"].str.split(\", \"),\n",
        "        country=raw_df[\"country\"].str.split(\", \"),\n",
        "        listed_in=raw_df[\"listed_in\"].str.split(\", \"),\n",
        "    )\n",
        "    .convert_dtypes()\n",
        "    .set_index(keys=[\"type\", \"rating\", \"release_year\", \"date_added\", \"show_id\"])\n",
        "    .sort_index()\n",
        ")\n",
        "\n",
        "cleaned_df.info()\n",
        "cleaned_df\n"
      ]
    },
    {
      "cell_type": "markdown",
      "metadata": {},
      "source": [
        "---"
      ]
    },
    {
      "cell_type": "markdown",
      "metadata": {},
      "source": [
        "## Plot Features Against Counts"
      ]
    },
    {
      "cell_type": "code",
      "execution_count": 8,
      "metadata": {},
      "outputs": [
        {
          "data": {
            "image/png": "[encoded data removed]",
            "text/plain": [
              "<Figure size 640x480 with 1 Axes>"
            ]
          },
          "metadata": {},
          "output_type": "display_data"
        }
      ],
      "source": [
        "data = cleaned_df[\"title\"].groupby(\"type\").count().sort_values(ascending=False)\n",
        "_ = plt.pie(\n",
        "    x=data,\n",
        "    labels=data.index.get_level_values(\"type\"),\n",
        "    autopct=lambda x: int(x / 100 * data.sum()),\n",
        ")\n"
      ]
    },
    {
      "cell_type": "code",
      "execution_count": null,
      "metadata": {},
      "outputs": [],
      "source": []
    }
  ],
  "metadata": {
    "colab": {
      "collapsed_sections": [],
      "provenance": []
    },
    "kernelspec": {
      "display_name": "Python 3.10.8 ('2022f_data5006')",
      "language": "python",
      "name": "python3"
    },
    "language_info": {
      "codemirror_mode": {
        "name": "ipython",
        "version": 3
      },
      "file_extension": ".py",
      "mimetype": "text/x-python",
      "name": "python",
      "nbconvert_exporter": "python",
      "pygments_lexer": "ipython3",
      "version": "3.10.8"
    },
    "vscode": {
      "interpreter": {
        "hash": "2f811677614a74995e1ac8e6258d21a673c84e56e6fb69011a9ed297ece3ada1"
      }
    }
  },
  "nbformat": 4,
  "nbformat_minor": 0
}
